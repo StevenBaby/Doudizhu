{
 "cells": [
  {
   "cell_type": "code",
   "execution_count": null,
   "metadata": {},
   "outputs": [],
   "source": [
    "import sys\n",
    "sys.path.insert(0, \"../src\")"
   ]
  },
  {
   "cell_type": "code",
   "execution_count": null,
   "metadata": {},
   "outputs": [],
   "source": [
    "import capture\n",
    "from utils import *\n",
    "from doudizhu import *\n",
    "from qq import *"
   ]
  },
  {
   "cell_type": "code",
   "execution_count": null,
   "metadata": {},
   "outputs": [],
   "source": [
    "img = capture.capture(\"欢乐斗地主\")\n",
    "img = img.resize((1920, 1080))\n",
    "image = np.asarray(img).copy()\n",
    "\n",
    "print(\"landlord\", find_landlord(image))\n",
    "\n",
    "print(\"three\", find_three_color_cards(image))\n",
    "print(\"own\", find_own_color_cards(image))\n",
    "print(\"down\", find_down_color_cards(image))\n",
    "print(\"up\", find_up_color_cards(image))"
   ]
  }
 ],
 "metadata": {
  "kernelspec": {
   "display_name": "test",
   "language": "python",
   "name": "python3"
  },
  "language_info": {
   "codemirror_mode": {
    "name": "ipython",
    "version": 3
   },
   "file_extension": ".py",
   "mimetype": "text/x-python",
   "name": "python",
   "nbconvert_exporter": "python",
   "pygments_lexer": "ipython3",
   "version": "3.10.9"
  }
 },
 "nbformat": 4,
 "nbformat_minor": 2
}
